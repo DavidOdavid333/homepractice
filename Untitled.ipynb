{
 "cells": [
  {
   "cell_type": "markdown",
   "id": "09f1fa1a-b468-4757-8b90-d0c892a6c6ec",
   "metadata": {},
   "source": [
    "# Boolean data type in branch|conditional control strructure"
   ]
  },
  {
   "cell_type": "markdown",
   "id": "05dc628f-f5b4-4e1b-9347-f49588874d1c",
   "metadata": {},
   "source": [
    "#hi"
   ]
  },
  {
   "cell_type": "markdown",
   "id": "c29a6fd6-7ab9-48d8-8e76-22916b7126e8",
   "metadata": {},
   "source": [
    "# hi"
   ]
  },
  {
   "cell_type": "code",
   "execution_count": null,
   "id": "e477d4b8-95be-4b97-9d79-44715c082866",
   "metadata": {},
   "outputs": [],
   "source": []
  },
  {
   "cell_type": "code",
   "execution_count": null,
   "id": "068fae1b-7225-4a7d-8f70-d2eb7343cc53",
   "metadata": {},
   "outputs": [],
   "source": []
  }
 ],
 "metadata": {
  "kernelspec": {
   "display_name": "Python 3 (ipykernel)",
   "language": "python",
   "name": "python3"
  },
  "language_info": {
   "codemirror_mode": {
    "name": "ipython",
    "version": 3
   },
   "file_extension": ".py",
   "mimetype": "text/x-python",
   "name": "python",
   "nbconvert_exporter": "python",
   "pygments_lexer": "ipython3",
   "version": "3.12.7"
  }
 },
 "nbformat": 4,
 "nbformat_minor": 5
}
